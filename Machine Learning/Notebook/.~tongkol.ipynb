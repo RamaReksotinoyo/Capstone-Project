{
  "nbformat": 4,
  "nbformat_minor": 0,
  "metadata": {
    "colab": {
      "name": "tongkol.ipynb",
      "provenance": []
    },
    "kernelspec": {
      "name": "python3",
      "display_name": "Python 3"
    },
    "language_info": {
      "name": "python"
    }
  },
  "cells": [
    {
      "cell_type": "code",
      "execution_count": null,
      "metadata": {
        "id": "urukkms7l5t6"
      },
      "outputs": [],
      "source": [
        "import numpy as np\n",
        "import pandas as pd\n",
        "import matplotlib.pyplot as plt\n",
        "import tensorflow as tf\n",
        "from tensorflow.keras.preprocessing.image import ImageDataGenerator\n",
        "import tensorflow\n",
        "from tensorflow.keras.optimizers import Adam\n",
        "from PIL import Image\n",
        "import IPython.display as display\n",
        "import os\n",
        "import pathlib\n",
        "from sklearn.model_selection import train_test_split"
      ]
    },
    {
      "cell_type": "code",
      "source": [
        "!unzip 'DataTraining.zip'"
      ],
      "metadata": {
        "colab": {
          "base_uri": "https://localhost:8080/"
        },
        "id": "BSLfvxKmmLBq",
        "outputId": "1b86dc93-283c-443b-a6de-d7fbfa69104e"
      },
      "execution_count": null,
      "outputs": [
        {
          "output_type": "stream",
          "name": "stdout",
          "text": [
            "Archive:  DataTraining.zip\n",
            "   creating: DataTraining/1/\n",
            "  inflating: DataTraining/1/1 (1).jpg  \n",
            "  inflating: DataTraining/1/1 (10).jpg  \n",
            "  inflating: DataTraining/1/1 (11).jpg  \n",
            "  inflating: DataTraining/1/1 (12).jpg  \n",
            "  inflating: DataTraining/1/1 (13).jpg  \n",
            "  inflating: DataTraining/1/1 (14).jpg  \n",
            "  inflating: DataTraining/1/1 (15).jpg  \n",
            "  inflating: DataTraining/1/1 (16).jpg  \n",
            "  inflating: DataTraining/1/1 (17).jpg  \n",
            "  inflating: DataTraining/1/1 (18).jpg  \n",
            "  inflating: DataTraining/1/1 (19).jpg  \n",
            "  inflating: DataTraining/1/1 (2).jpg  \n",
            "  inflating: DataTraining/1/1 (20).jpg  \n",
            "  inflating: DataTraining/1/1 (21).jpg  \n",
            "  inflating: DataTraining/1/1 (22).jpg  \n",
            "  inflating: DataTraining/1/1 (23).jpg  \n",
            "  inflating: DataTraining/1/1 (24).jpg  \n",
            "  inflating: DataTraining/1/1 (25).jpg  \n",
            "  inflating: DataTraining/1/1 (26).jpg  \n",
            "  inflating: DataTraining/1/1 (27).jpg  \n",
            "  inflating: DataTraining/1/1 (28).jpg  \n",
            "  inflating: DataTraining/1/1 (29).jpg  \n",
            "  inflating: DataTraining/1/1 (3).jpg  \n",
            "  inflating: DataTraining/1/1 (30).jpg  \n",
            "  inflating: DataTraining/1/1 (4).jpg  \n",
            "  inflating: DataTraining/1/1 (5).jpg  \n",
            "  inflating: DataTraining/1/1 (6).jpg  \n",
            "  inflating: DataTraining/1/1 (7).jpg  \n",
            "  inflating: DataTraining/1/1 (8).jpg  \n",
            "  inflating: DataTraining/1/1 (9).jpg  \n",
            "   creating: DataTraining/2/\n",
            "  inflating: DataTraining/2/2 (1).jpg  \n",
            "  inflating: DataTraining/2/2 (10).jpg  \n",
            "  inflating: DataTraining/2/2 (11).jpg  \n",
            "  inflating: DataTraining/2/2 (12).jpg  \n",
            "  inflating: DataTraining/2/2 (13).jpg  \n",
            "  inflating: DataTraining/2/2 (14).jpg  \n",
            "  inflating: DataTraining/2/2 (15).jpg  \n",
            "  inflating: DataTraining/2/2 (16).jpg  \n",
            "  inflating: DataTraining/2/2 (17).jpg  \n",
            "  inflating: DataTraining/2/2 (18).jpg  \n",
            "  inflating: DataTraining/2/2 (19).jpg  \n",
            "  inflating: DataTraining/2/2 (2).jpg  \n",
            "  inflating: DataTraining/2/2 (20).jpg  \n",
            "  inflating: DataTraining/2/2 (21).jpg  \n",
            "  inflating: DataTraining/2/2 (22).jpg  \n",
            "  inflating: DataTraining/2/2 (23).jpg  \n",
            "  inflating: DataTraining/2/2 (24).jpg  \n",
            "  inflating: DataTraining/2/2 (25).jpg  \n",
            "  inflating: DataTraining/2/2 (26).jpg  \n",
            "  inflating: DataTraining/2/2 (27).jpg  \n",
            "  inflating: DataTraining/2/2 (28).jpg  \n",
            "  inflating: DataTraining/2/2 (29).jpg  \n",
            "  inflating: DataTraining/2/2 (3).jpg  \n",
            "  inflating: DataTraining/2/2 (30).jpg  \n",
            "  inflating: DataTraining/2/2 (4).jpg  \n",
            "  inflating: DataTraining/2/2 (5).jpg  \n",
            "  inflating: DataTraining/2/2 (6).jpg  \n",
            "  inflating: DataTraining/2/2 (7).jpg  \n",
            "  inflating: DataTraining/2/2 (8).jpg  \n",
            "  inflating: DataTraining/2/2 (9).jpg  \n",
            "   creating: DataTraining/3/\n",
            "  inflating: DataTraining/3/3 (1).jpg  \n",
            "  inflating: DataTraining/3/3 (10).jpg  \n",
            "  inflating: DataTraining/3/3 (11).jpg  \n",
            "  inflating: DataTraining/3/3 (12).jpg  \n",
            "  inflating: DataTraining/3/3 (13).jpg  \n",
            "  inflating: DataTraining/3/3 (14).jpg  \n",
            "  inflating: DataTraining/3/3 (15).jpg  \n",
            "  inflating: DataTraining/3/3 (16).jpg  \n",
            "  inflating: DataTraining/3/3 (17).jpg  \n",
            "  inflating: DataTraining/3/3 (18).jpg  \n",
            "  inflating: DataTraining/3/3 (19).jpg  \n",
            "  inflating: DataTraining/3/3 (2).jpg  \n",
            "  inflating: DataTraining/3/3 (20).jpg  \n",
            "  inflating: DataTraining/3/3 (21).jpg  \n",
            "  inflating: DataTraining/3/3 (22).jpg  \n",
            "  inflating: DataTraining/3/3 (23).jpg  \n",
            "  inflating: DataTraining/3/3 (24).jpg  \n",
            "  inflating: DataTraining/3/3 (25).jpg  \n",
            "  inflating: DataTraining/3/3 (26).jpg  \n",
            "  inflating: DataTraining/3/3 (27).jpg  \n",
            "  inflating: DataTraining/3/3 (28).jpg  \n",
            "  inflating: DataTraining/3/3 (29).jpg  \n",
            "  inflating: DataTraining/3/3 (3).jpg  \n",
            "  inflating: DataTraining/3/3 (30).jpg  \n",
            "  inflating: DataTraining/3/3 (4).jpg  \n",
            "  inflating: DataTraining/3/3 (5).jpg  \n",
            "  inflating: DataTraining/3/3 (6).jpg  \n",
            "  inflating: DataTraining/3/3 (7).jpg  \n",
            "  inflating: DataTraining/3/3 (8).jpg  \n",
            "  inflating: DataTraining/3/3 (9).jpg  \n",
            "   creating: DataTraining/4/\n",
            "  inflating: DataTraining/4/4 (1).jpg  \n",
            "  inflating: DataTraining/4/4 (10).jpg  \n",
            "  inflating: DataTraining/4/4 (11).jpg  \n",
            "  inflating: DataTraining/4/4 (12).jpg  \n",
            "  inflating: DataTraining/4/4 (13).jpg  \n",
            "  inflating: DataTraining/4/4 (14).jpg  \n",
            "  inflating: DataTraining/4/4 (15).jpg  \n",
            "  inflating: DataTraining/4/4 (16).jpg  \n",
            "  inflating: DataTraining/4/4 (17).jpg  \n",
            "  inflating: DataTraining/4/4 (18).jpg  \n",
            "  inflating: DataTraining/4/4 (19).jpg  \n",
            "  inflating: DataTraining/4/4 (2).jpg  \n",
            "  inflating: DataTraining/4/4 (20).jpg  \n",
            "  inflating: DataTraining/4/4 (21).jpg  \n",
            "  inflating: DataTraining/4/4 (22).jpg  \n",
            "  inflating: DataTraining/4/4 (23).jpg  \n",
            "  inflating: DataTraining/4/4 (24).jpg  \n",
            "  inflating: DataTraining/4/4 (25).jpg  \n",
            "  inflating: DataTraining/4/4 (26).jpg  \n",
            "  inflating: DataTraining/4/4 (27).jpg  \n",
            "  inflating: DataTraining/4/4 (28).jpg  \n",
            "  inflating: DataTraining/4/4 (29).jpg  \n",
            "  inflating: DataTraining/4/4 (3).jpg  \n",
            "  inflating: DataTraining/4/4 (30).jpg  \n",
            "  inflating: DataTraining/4/4 (4).jpg  \n",
            "  inflating: DataTraining/4/4 (5).jpg  \n",
            "  inflating: DataTraining/4/4 (6).jpg  \n",
            "  inflating: DataTraining/4/4 (7).jpg  \n",
            "  inflating: DataTraining/4/4 (8).jpg  \n",
            "  inflating: DataTraining/4/4 (9).jpg  \n",
            "   creating: DataTraining/5/\n",
            "  inflating: DataTraining/5/5 (1).jpg  \n",
            "  inflating: DataTraining/5/5 (10).jpg  \n",
            "  inflating: DataTraining/5/5 (11).jpg  \n",
            "  inflating: DataTraining/5/5 (12).jpg  \n",
            "  inflating: DataTraining/5/5 (13).jpg  \n",
            "  inflating: DataTraining/5/5 (14).jpg  \n",
            "  inflating: DataTraining/5/5 (15).jpg  \n",
            "  inflating: DataTraining/5/5 (16).jpg  \n",
            "  inflating: DataTraining/5/5 (17).jpg  \n",
            "  inflating: DataTraining/5/5 (18).jpg  \n",
            "  inflating: DataTraining/5/5 (19).jpg  \n",
            "  inflating: DataTraining/5/5 (2).jpg  \n",
            "  inflating: DataTraining/5/5 (20).jpg  \n",
            "  inflating: DataTraining/5/5 (21).jpg  \n",
            "  inflating: DataTraining/5/5 (22).jpg  \n",
            "  inflating: DataTraining/5/5 (23).jpg  \n",
            "  inflating: DataTraining/5/5 (24).jpg  \n",
            "  inflating: DataTraining/5/5 (25).jpg  \n",
            "  inflating: DataTraining/5/5 (26).jpg  \n",
            "  inflating: DataTraining/5/5 (27).jpg  \n",
            "  inflating: DataTraining/5/5 (28).jpg  \n",
            "  inflating: DataTraining/5/5 (29).jpg  \n",
            "  inflating: DataTraining/5/5 (3).jpg  \n",
            "  inflating: DataTraining/5/5 (30).jpg  \n",
            "  inflating: DataTraining/5/5 (4).jpg  \n",
            "  inflating: DataTraining/5/5 (5).jpg  \n",
            "  inflating: DataTraining/5/5 (6).jpg  \n",
            "  inflating: DataTraining/5/5 (7).jpg  \n",
            "  inflating: DataTraining/5/5 (8).jpg  \n",
            "  inflating: DataTraining/5/5 (9).jpg  \n"
          ]
        }
      ]
    },
    {
      "cell_type": "code",
      "source": [
        "data_dir = '/content/DataTraining'\n",
        "\n",
        "datagen = tf.keras.preprocessing.image.ImageDataGenerator(\n",
        "    validation_split=0.4, \n",
        "    rescale=1./255\n",
        ")\n",
        "\n",
        "image_width, image_height = 224,224\n",
        "\n",
        "train_generator = datagen.flow_from_directory(\n",
        "    data_dir, \n",
        "    subset='training',\n",
        "    batch_size=32,\n",
        "    class_mode='categorical',\n",
        "    color_mode=\"rgb\",\n",
        "    target_size=(image_width, image_height),\n",
        "    shuffle=True\n",
        ")\n",
        "\n",
        "val_generator = datagen.flow_from_directory(\n",
        "    data_dir,\n",
        "    subset='validation',\n",
        "    batch_size=32,\n",
        "    class_mode='categorical',\n",
        "    color_mode=\"rgb\",\n",
        "    target_size=(image_width, image_height),\n",
        "    shuffle=True\n",
        ")"
      ],
      "metadata": {
        "colab": {
          "base_uri": "https://localhost:8080/"
        },
        "id": "OhFLLj4GmRqs",
        "outputId": "6b407344-81ba-498e-86a7-ec15c0c11ab7"
      },
      "execution_count": null,
      "outputs": [
        {
          "output_type": "stream",
          "name": "stdout",
          "text": [
            "Found 90 images belonging to 5 classes.\n",
            "Found 60 images belonging to 5 classes.\n"
          ]
        }
      ]
    },
    {
      "cell_type": "code",
      "source": [
        "data_augmentation = tf.keras.models.Sequential(\n",
        "  [\n",
        "      tf.keras.layers.RandomFlip(\n",
        "          \"horizontal\",\n",
        "          input_shape=(train_generator.image_shape)\n",
        "      ),\n",
        "#       tf.keras.layers.RandomZoom(\n",
        "#           height_factor = (0.2, 0.4),\n",
        "#           width_factor = (0.2, 0.4),\n",
        "#       ),\n",
        "#       tf.keras.layers.RandomRotation(0.3)\n",
        "  ]\n",
        ")"
      ],
      "metadata": {
        "id": "_OGfj8dtmg1H"
      },
      "execution_count": null,
      "outputs": []
    },
    {
      "cell_type": "code",
      "source": [
        "model = tf.keras.models.Sequential()\n",
        "model.add(data_augmentation)\n",
        "model.add(tf.keras.layers.Conv2D(32, (3, 3), activation='relu'))\n",
        "model.add(tf.keras.layers.MaxPooling2D((2, 2)))\n",
        "model.add(tf.keras.layers.Conv2D(64, (3, 3), activation='relu'))\n",
        "model.add(tf.keras.layers.MaxPooling2D((2, 2)))\n",
        "model.add(tf.keras.layers.Flatten())\n",
        "model.add(tf.keras.layers.Dense(128, activation='relu'))\n",
        "model.add(tf.keras.layers.Dense(5, activation='softmax'))\n",
        "\n",
        "model.summary()"
      ],
      "metadata": {
        "colab": {
          "base_uri": "https://localhost:8080/"
        },
        "id": "s3CAMwNjnDL1",
        "outputId": "88d07969-e286-4761-f0dd-1e45fd2e1be6"
      },
      "execution_count": null,
      "outputs": [
        {
          "output_type": "stream",
          "name": "stdout",
          "text": [
            "Model: \"sequential_2\"\n",
            "_________________________________________________________________\n",
            " Layer (type)                Output Shape              Param #   \n",
            "=================================================================\n",
            " sequential (Sequential)     (None, 224, 224, 3)       0         \n",
            "                                                                 \n",
            " conv2d_2 (Conv2D)           (None, 222, 222, 32)      896       \n",
            "                                                                 \n",
            " max_pooling2d_2 (MaxPooling  (None, 111, 111, 32)     0         \n",
            " 2D)                                                             \n",
            "                                                                 \n",
            " conv2d_3 (Conv2D)           (None, 109, 109, 64)      18496     \n",
            "                                                                 \n",
            " max_pooling2d_3 (MaxPooling  (None, 54, 54, 64)       0         \n",
            " 2D)                                                             \n",
            "                                                                 \n",
            " flatten_1 (Flatten)         (None, 186624)            0         \n",
            "                                                                 \n",
            " dense_2 (Dense)             (None, 128)               23888000  \n",
            "                                                                 \n",
            " dense_3 (Dense)             (None, 5)                 645       \n",
            "                                                                 \n",
            "=================================================================\n",
            "Total params: 23,908,037\n",
            "Trainable params: 23,908,037\n",
            "Non-trainable params: 0\n",
            "_________________________________________________________________\n"
          ]
        }
      ]
    },
    {
      "cell_type": "code",
      "source": [
        "model.compile(\n",
        "    optimizer = tf.keras.optimizers.Adam(learning_rate = 0.001),\n",
        "    loss = 'categorical_crossentropy',\n",
        "    metrics = ['accuracy']\n",
        ")"
      ],
      "metadata": {
        "id": "MGF1tbxrnGH-"
      },
      "execution_count": null,
      "outputs": []
    },
    {
      "cell_type": "code",
      "source": [
        "model.fit(\n",
        "    train_generator, \n",
        "    steps_per_epoch = train_generator.samples // train_generator.batch_size,\n",
        "    validation_data = val_generator,\n",
        "    validation_steps = val_generator.samples // val_generator.batch_size,\n",
        "    epochs = 10,\n",
        ")"
      ],
      "metadata": {
        "colab": {
          "base_uri": "https://localhost:8080/"
        },
        "id": "OXbbIgxgnIsl",
        "outputId": "1e075e12-64cf-47b5-8ab4-b356d3ecd56b"
      },
      "execution_count": null,
      "outputs": [
        {
          "output_type": "stream",
          "name": "stdout",
          "text": [
            "Epoch 1/10\n",
            "2/2 [==============================] - 6s 3s/step - loss: 4.1166 - accuracy: 0.1094 - val_loss: 5.4397 - val_accuracy: 0.3438\n",
            "Epoch 2/10\n",
            "2/2 [==============================] - 4s 2s/step - loss: 5.1053 - accuracy: 0.2241 - val_loss: 2.8424 - val_accuracy: 0.4375\n",
            "Epoch 3/10\n",
            "2/2 [==============================] - 4s 2s/step - loss: 3.0201 - accuracy: 0.4483 - val_loss: 1.4224 - val_accuracy: 0.5312\n",
            "Epoch 4/10\n",
            "2/2 [==============================] - 5s 3s/step - loss: 1.2254 - accuracy: 0.4828 - val_loss: 0.7301 - val_accuracy: 0.8438\n",
            "Epoch 5/10\n",
            "2/2 [==============================] - 5s 3s/step - loss: 0.5283 - accuracy: 0.9310 - val_loss: 0.4266 - val_accuracy: 1.0000\n",
            "Epoch 6/10\n",
            "2/2 [==============================] - 5s 3s/step - loss: 0.3543 - accuracy: 0.9310 - val_loss: 0.3628 - val_accuracy: 0.9062\n",
            "Epoch 7/10\n",
            "2/2 [==============================] - 5s 3s/step - loss: 0.2628 - accuracy: 0.8906 - val_loss: 0.2456 - val_accuracy: 1.0000\n",
            "Epoch 8/10\n",
            "2/2 [==============================] - 5s 3s/step - loss: 0.1454 - accuracy: 0.9828 - val_loss: 0.1032 - val_accuracy: 1.0000\n",
            "Epoch 9/10\n",
            "2/2 [==============================] - 5s 3s/step - loss: 0.1302 - accuracy: 0.9655 - val_loss: 0.1762 - val_accuracy: 1.0000\n",
            "Epoch 10/10\n",
            "2/2 [==============================] - 10s 7s/step - loss: 0.0729 - accuracy: 0.9844 - val_loss: 0.1931 - val_accuracy: 0.9375\n"
          ]
        },
        {
          "output_type": "execute_result",
          "data": {
            "text/plain": [
              "<keras.callbacks.History at 0x7f9eb15c0b10>"
            ]
          },
          "metadata": {},
          "execution_count": 10
        }
      ]
    },
    {
      "cell_type": "code",
      "source": [
        "history=model.history.history\n",
        "print(history)"
      ],
      "metadata": {
        "id": "XV6m2aU9rFsD",
        "colab": {
          "base_uri": "https://localhost:8080/"
        },
        "outputId": "def323e4-0b3a-4e9a-cac4-3827f4c64711"
      },
      "execution_count": null,
      "outputs": [
        {
          "output_type": "stream",
          "name": "stdout",
          "text": [
            "{'loss': [4.116582870483398, 5.1053147315979, 3.020073175430298, 1.2254297733306885, 0.5282658934593201, 0.3543313145637512, 0.2627752125263214, 0.14537513256072998, 0.13024713099002838, 0.07293325662612915], 'accuracy': [0.109375, 0.22413793206214905, 0.4482758641242981, 0.48275861144065857, 0.931034505367279, 0.931034505367279, 0.890625, 0.982758641242981, 0.9655172228813171, 0.984375], 'val_loss': [5.439733982086182, 2.8423678874969482, 1.4224061965942383, 0.7300621271133423, 0.42659991979599, 0.36283019185066223, 0.24560587108135223, 0.10324962437152863, 0.1761653870344162, 0.19313526153564453], 'val_accuracy': [0.34375, 0.4375, 0.53125, 0.84375, 1.0, 0.90625, 1.0, 1.0, 1.0, 0.9375]}\n"
          ]
        }
      ]
    },
    {
      "cell_type": "code",
      "source": [
        "def plotting():\n",
        "    plot1=plt.figure(1)\n",
        "    plt.title('loss')\n",
        "    plt.plot(history['loss'])\n",
        "    plt.plot(history['val_loss'])\n",
        "    plt.legend(['Train','Validation'],loc='upper right')\n",
        "    plt.show()\n",
        "\n",
        "    plot2=plt.figure(2)\n",
        "    plt.title('accuracy')\n",
        "    plt.plot(history['accuracy'])\n",
        "    plt.plot(history['val_accuracy'])\n",
        "    plt.legend(['Train','Validation'],loc='upper right')\n",
        "    plt.show()\n",
        "  \n",
        "plotting()"
      ],
      "metadata": {
        "colab": {
          "base_uri": "https://localhost:8080/",
          "height": 544
        },
        "id": "PIiGKYdSA_De",
        "outputId": "7d1f3709-49d1-4e1a-c7cf-44c04f382bb8"
      },
      "execution_count": null,
      "outputs": [
        {
          "output_type": "display_data",
          "data": {
            "text/plain": [
              "<Figure size 432x288 with 1 Axes>"
            ],
            "image/png": "[encoded data removed]"
          },
          "metadata": {
            "needs_background": "light"
          }
        },
        {
          "output_type": "display_data",
          "data": {
            "text/plain": [
              "<Figure size 432x288 with 1 Axes>"
            ],
            "image/png": "[encoded data removed]"
          },
          "metadata": {
            "needs_background": "light"
          }
        }
      ]
    },
    {
      "cell_type": "code",
      "source": [
        ""
      ],
      "metadata": {
        "id": "GUZOHPYFBFF-"
      },
      "execution_count": null,
      "outputs": []
    }
  ]
}